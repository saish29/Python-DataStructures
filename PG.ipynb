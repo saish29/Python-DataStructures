{
 "cells": [
  {
   "cell_type": "code",
   "execution_count": 5,
   "metadata": {},
   "outputs": [
    {
     "data": {
      "text/plain": [
       "15511210043330985984000000"
      ]
     },
     "execution_count": 5,
     "metadata": {},
     "output_type": "execute_result"
    }
   ],
   "source": [
    "def fact(n):\n",
    "    assert n >= 0 and int(n) == n, \"The number must be positive integer only!\"\n",
    "    if n in [0,1]:\n",
    "        return 1\n",
    "    else:\n",
    "    \n",
    "        return n * fact(n-1)\n",
    "\n",
    "\n",
    "\n",
    "fact(25)"
   ]
  }
 ],
 "metadata": {
  "kernelspec": {
   "display_name": "Python 3.9.12",
   "language": "python",
   "name": "python3"
  },
  "language_info": {
   "codemirror_mode": {
    "name": "ipython",
    "version": 3
   },
   "file_extension": ".py",
   "mimetype": "text/x-python",
   "name": "python",
   "nbconvert_exporter": "python",
   "pygments_lexer": "ipython3",
   "version": "3.9.12"
  },
  "orig_nbformat": 4,
  "vscode": {
   "interpreter": {
    "hash": "d47d9269cffa2cf13049e19e7e2c2cdbc3e0a106bf3d85d87066843337b02bbd"
   }
  }
 },
 "nbformat": 4,
 "nbformat_minor": 2
}
